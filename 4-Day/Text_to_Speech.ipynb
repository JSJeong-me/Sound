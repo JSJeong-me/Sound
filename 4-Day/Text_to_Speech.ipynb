{
  "nbformat": 4,
  "nbformat_minor": 0,
  "metadata": {
    "colab": {
      "provenance": [],
      "collapsed_sections": []
    },
    "kernelspec": {
      "name": "python3",
      "display_name": "Python 3"
    }
  },
  "cells": [
    {
      "cell_type": "markdown",
      "metadata": {
        "id": "GVIkgYnrD8Ks"
      },
      "source": [
        "# Text to Speech\n",
        "\n",
        "## Data\n",
        "* Text\n",
        "> **One hot encoding** <br>\n",
        "English : 'ABCDEFGHIJKLMNOPQRSTUVWXYZabcdefghijklmnopqrstuvwxyz' <br>\n",
        "Korean : \"ᄀᄁᄂᄃᄄᄅᄆᄇᄈᄉᄊᄋᄌᄍᄎᄏᄐᄑᄒㅏㅐㅑㅒㅓㅔㅕㅖㅗㅘㅙㅚㅛㅜㅝㅞㅟㅠㅡㅢㅣㄱㄲㄳㄴㄵㄶㄷㄹㄺㄻㄼㄽㄾㄿㅀㅁㅂㅄㅅㅆㅇㅈㅊㅋㅌㅍㅎ!\"<br>\n",
        "\n",
        "* Mel-Spectrogram <br>\n",
        "  STFT(audio, hopsize, fft size, window size) -> Spectrogram based on magnitude  <br>\n",
        "  $$Spectrum: R^{F}  \\in [0,?]$$\n",
        "  Where F: the number of frequency dim <br>\n",
        "  Mel basis function(Spectrogram) -> Mel-spectrogram \n",
        "  $$ R^{M} \\in [0,?]$$\n",
        "  Where M: the number of mel basis\n",
        "  Log(Mel-Spectrogram) <br>\n",
        "  $$ R^{M} \\in [-?,?]$$ Where ?: float type에 따른 최대 지수승 만큼 <br>\n",
        "  https://haythamfayek.com/2016/04/21/speech-processing-for-machine-learning.html \n",
        "  https://colab.research.google.com/drive/1TRBVOw_pX2QT7RmTf3HsTR5aFMrryt1u\n",
        "  \n",
        "  \n",
        "* Audio <br>\n",
        " .Wav int16 $$R \\in [-2^{15}+1, 2^{15}]$$\n",
        " .Wave float32 $$R \\in [-1, 1]$$ \n",
        "  https://colab.research.google.com/drive/1TRBVOw_pX2QT7RmTf3HsTR5aFMrryt1u\n",
        "\n",
        "### Dataset\n",
        "* Metatada, LJ speech format <br>\n",
        "(Audio path)|(Script)\n",
        "\n",
        "## Text to Mel-Spectrogram\n",
        "\n",
        "* [2017 arxiv] natural tts synthesis by conditioning wavenet on mel spectrogram predictions\n",
        "> Paper: https://arxiv.org/abs/1712.05884 <br>\n",
        "모두연 PPT: http://www.modulabs.co.kr/DeepLAB_Paper/19572\n",
        "\n",
        "## Mel-Spectrogram to audio\n",
        "\n",
        "* [2016 arxiv] WaveNet: A Generative Model for Raw Audio\n",
        "> Paper: https://arxiv.org/abs/1609.03499 <br>\n",
        "모두연 PPT: http://www.modulabs.co.kr/index.php?mid=DeepLAB_Paper&search_target=title_content&search_keyword=wavenet&document_srl=16552 <br>\n",
        "\n",
        "train/infer P(mel|text) <br>\n",
        "train/infer P(audio|mel)\n",
        "\n",
        "## Prosody\n",
        "\n",
        "https://google.github.io/tacotron/\n",
        "\n",
        "* Train P(mel| mel, text), infer P(mel| mel, text): https://arxiv.org/abs/1803.09047\n",
        "* Train P(mel| mel, text), infer P(mel| style token, text): https://arxiv.org/abs/1803.09017\n",
        "* Train P(mel| mel, text), infer P(mel| text): https://arxiv.org/abs/1808.01410\n",
        "* Train P(mel| mel, text), infer P(mel| text, style id, style weight): https://arxiv.org/abs/1811.02122, https://arxiv.org/abs/1906.03402 \n"
      ]
    }
  ]
}